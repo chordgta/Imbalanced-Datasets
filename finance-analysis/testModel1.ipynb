{
 "cells": [
  {
   "cell_type": "code",
   "execution_count": null,
   "id": "dcbf7015-4e19-4bb3-9f0c-7e36cd8343a4",
   "metadata": {},
   "outputs": [],
   "source": [
    "from sklearn.metrics import precision_recall_curve, auc\n",
    "import matplotlib.pyplot as plt"
   ]
  },
  {
   "cell_type": "code",
   "execution_count": null,
   "id": "c4fbd9ff-226b-4ea5-b3dc-98625c1f6add",
   "metadata": {},
   "outputs": [],
   "source": []
  },
  {
   "cell_type": "code",
   "execution_count": null,
   "id": "0694cc6e-c4b9-4a98-8a2b-e2abe3300b49",
   "metadata": {},
   "outputs": [],
   "source": [
    "random_sample = train.sample(n=5, random_state=42)  # random_state 确保结果可复现\n",
    "selected_features = ['amt','city_pop','dob','time','weekday','Llat']+ one_hot_columns\n",
    "X1 = random_sample[selected_features]  # 选择特定特征\n",
    "predictions =model.predict(X1)\n",
    "predictions2 = model.predict_proba(X1)[:, 1]\n",
    "# 输出预测结果\n",
    "print(\"Predictions:\", predictions)\n",
    "print(\"predictions2:\", predictions2)\n",
    "print(\"is_fraud:\", random_sample['is_fraud'])"
   ]
  },
  {
   "cell_type": "code",
   "execution_count": null,
   "id": "3967926b-02fd-4d80-99b3-420f383a2040",
   "metadata": {},
   "outputs": [],
   "source": [
    "newTest = pd.read_csv(\"Newtest.csv\")\n",
    "newX = newTest[selected_features]\n",
    "newY = newTest['is_fraud']\n",
    "new_pred = model.predict(newX)\n",
    "new_prob = model.predict_proba(newX)[:, 1]  # 预测概率（用于 AUC 和 ROC）\n",
    "\n",
    "# 假设 y_test 是真实标签，y_pred 是预测标签，y_prob 是预测概率\n",
    "print(f\"AUC Score: {roc_auc_score(newY, new_prob):.4f}\")\n",
    "print(f\"Precision: {precision_score(newY, new_pred):.4f}\")\n",
    "print(f\"Recall: {recall_score(newY, new_pred):.4f}\")\n",
    "print(f\"F1-Score: {f1_score(newY, new_pred):.4f}\")"
   ]
  }
 ],
 "metadata": {
  "kernelspec": {
   "display_name": "Python 3 (ipykernel)",
   "language": "python",
   "name": "python3"
  },
  "language_info": {
   "codemirror_mode": {
    "name": "ipython",
    "version": 3
   },
   "file_extension": ".py",
   "mimetype": "text/x-python",
   "name": "python",
   "nbconvert_exporter": "python",
   "pygments_lexer": "ipython3",
   "version": "3.9.6"
  }
 },
 "nbformat": 4,
 "nbformat_minor": 5
}
