{
 "cells": [
  {
   "cell_type": "code",
   "execution_count": 1,
   "id": "45e5a7b0-9b7a-40fa-bd0a-e412c22263eb",
   "metadata": {},
   "outputs": [],
   "source": [
    "import pandas as pd"
   ]
  },
  {
   "cell_type": "code",
   "execution_count": 2,
   "id": "96cb765c-2f57-4a1a-a2bf-4f5d08e22582",
   "metadata": {},
   "outputs": [
    {
     "data": {
      "text/html": [
       "<div>\n",
       "<style scoped>\n",
       "    .dataframe tbody tr th:only-of-type {\n",
       "        vertical-align: middle;\n",
       "    }\n",
       "\n",
       "    .dataframe tbody tr th {\n",
       "        vertical-align: top;\n",
       "    }\n",
       "\n",
       "    .dataframe thead th {\n",
       "        text-align: right;\n",
       "    }\n",
       "</style>\n",
       "<table border=\"1\" class=\"dataframe\">\n",
       "  <thead>\n",
       "    <tr style=\"text-align: right;\">\n",
       "      <th></th>\n",
       "      <th>Unnamed: 0</th>\n",
       "      <th>category</th>\n",
       "      <th>amt</th>\n",
       "      <th>city_pop</th>\n",
       "      <th>dob</th>\n",
       "      <th>is_fraud</th>\n",
       "      <th>time</th>\n",
       "      <th>month</th>\n",
       "      <th>weekday</th>\n",
       "      <th>Llat</th>\n",
       "      <th>Llong</th>\n",
       "    </tr>\n",
       "  </thead>\n",
       "  <tbody>\n",
       "    <tr>\n",
       "      <th>0</th>\n",
       "      <td>0</td>\n",
       "      <td>misc_net</td>\n",
       "      <td>4.97</td>\n",
       "      <td>3495</td>\n",
       "      <td>37</td>\n",
       "      <td>0</td>\n",
       "      <td>0</td>\n",
       "      <td>1</td>\n",
       "      <td>1</td>\n",
       "      <td>0.067507</td>\n",
       "      <td>0.870215</td>\n",
       "    </tr>\n",
       "    <tr>\n",
       "      <th>1</th>\n",
       "      <td>1</td>\n",
       "      <td>grocery_pos</td>\n",
       "      <td>107.23</td>\n",
       "      <td>149</td>\n",
       "      <td>47</td>\n",
       "      <td>0</td>\n",
       "      <td>0</td>\n",
       "      <td>1</td>\n",
       "      <td>1</td>\n",
       "      <td>0.271247</td>\n",
       "      <td>0.024038</td>\n",
       "    </tr>\n",
       "    <tr>\n",
       "      <th>2</th>\n",
       "      <td>2</td>\n",
       "      <td>entertainment</td>\n",
       "      <td>220.11</td>\n",
       "      <td>4154</td>\n",
       "      <td>63</td>\n",
       "      <td>0</td>\n",
       "      <td>0</td>\n",
       "      <td>1</td>\n",
       "      <td>1</td>\n",
       "      <td>0.969904</td>\n",
       "      <td>0.107519</td>\n",
       "    </tr>\n",
       "    <tr>\n",
       "      <th>3</th>\n",
       "      <td>3</td>\n",
       "      <td>gas_transport</td>\n",
       "      <td>45.00</td>\n",
       "      <td>1939</td>\n",
       "      <td>58</td>\n",
       "      <td>0</td>\n",
       "      <td>0</td>\n",
       "      <td>1</td>\n",
       "      <td>1</td>\n",
       "      <td>0.803731</td>\n",
       "      <td>0.447271</td>\n",
       "    </tr>\n",
       "    <tr>\n",
       "      <th>4</th>\n",
       "      <td>4</td>\n",
       "      <td>misc_pos</td>\n",
       "      <td>41.96</td>\n",
       "      <td>99</td>\n",
       "      <td>39</td>\n",
       "      <td>0</td>\n",
       "      <td>0</td>\n",
       "      <td>1</td>\n",
       "      <td>1</td>\n",
       "      <td>0.254299</td>\n",
       "      <td>0.830441</td>\n",
       "    </tr>\n",
       "  </tbody>\n",
       "</table>\n",
       "</div>"
      ],
      "text/plain": [
       "   Unnamed: 0       category     amt  city_pop  dob  is_fraud  time  month  \\\n",
       "0           0       misc_net    4.97      3495   37         0     0      1   \n",
       "1           1    grocery_pos  107.23       149   47         0     0      1   \n",
       "2           2  entertainment  220.11      4154   63         0     0      1   \n",
       "3           3  gas_transport   45.00      1939   58         0     0      1   \n",
       "4           4       misc_pos   41.96        99   39         0     0      1   \n",
       "\n",
       "   weekday      Llat     Llong  \n",
       "0        1  0.067507  0.870215  \n",
       "1        1  0.271247  0.024038  \n",
       "2        1  0.969904  0.107519  \n",
       "3        1  0.803731  0.447271  \n",
       "4        1  0.254299  0.830441  "
      ]
     },
     "execution_count": 2,
     "metadata": {},
     "output_type": "execute_result"
    }
   ],
   "source": [
    "train = pd.read_csv(\"test.csv\")\n",
    "train.head()"
   ]
  },
  {
   "cell_type": "code",
   "execution_count": 3,
   "id": "d198d408-000a-4f36-8d74-a848b6638fcd",
   "metadata": {
    "scrolled": true
   },
   "outputs": [
    {
     "data": {
      "text/html": [
       "<div>\n",
       "<style scoped>\n",
       "    .dataframe tbody tr th:only-of-type {\n",
       "        vertical-align: middle;\n",
       "    }\n",
       "\n",
       "    .dataframe tbody tr th {\n",
       "        vertical-align: top;\n",
       "    }\n",
       "\n",
       "    .dataframe thead th {\n",
       "        text-align: right;\n",
       "    }\n",
       "</style>\n",
       "<table border=\"1\" class=\"dataframe\">\n",
       "  <thead>\n",
       "    <tr style=\"text-align: right;\">\n",
       "      <th></th>\n",
       "      <th>category</th>\n",
       "      <th>amt</th>\n",
       "      <th>city_pop</th>\n",
       "      <th>dob</th>\n",
       "      <th>is_fraud</th>\n",
       "      <th>time</th>\n",
       "      <th>month</th>\n",
       "      <th>weekday</th>\n",
       "      <th>Llat</th>\n",
       "      <th>Llong</th>\n",
       "    </tr>\n",
       "  </thead>\n",
       "  <tbody>\n",
       "    <tr>\n",
       "      <th>0</th>\n",
       "      <td>misc_net</td>\n",
       "      <td>4.97</td>\n",
       "      <td>3495</td>\n",
       "      <td>37</td>\n",
       "      <td>0</td>\n",
       "      <td>0</td>\n",
       "      <td>1</td>\n",
       "      <td>1</td>\n",
       "      <td>0.067507</td>\n",
       "      <td>0.870215</td>\n",
       "    </tr>\n",
       "    <tr>\n",
       "      <th>1</th>\n",
       "      <td>grocery_pos</td>\n",
       "      <td>107.23</td>\n",
       "      <td>149</td>\n",
       "      <td>47</td>\n",
       "      <td>0</td>\n",
       "      <td>0</td>\n",
       "      <td>1</td>\n",
       "      <td>1</td>\n",
       "      <td>0.271247</td>\n",
       "      <td>0.024038</td>\n",
       "    </tr>\n",
       "    <tr>\n",
       "      <th>2</th>\n",
       "      <td>entertainment</td>\n",
       "      <td>220.11</td>\n",
       "      <td>4154</td>\n",
       "      <td>63</td>\n",
       "      <td>0</td>\n",
       "      <td>0</td>\n",
       "      <td>1</td>\n",
       "      <td>1</td>\n",
       "      <td>0.969904</td>\n",
       "      <td>0.107519</td>\n",
       "    </tr>\n",
       "    <tr>\n",
       "      <th>3</th>\n",
       "      <td>gas_transport</td>\n",
       "      <td>45.00</td>\n",
       "      <td>1939</td>\n",
       "      <td>58</td>\n",
       "      <td>0</td>\n",
       "      <td>0</td>\n",
       "      <td>1</td>\n",
       "      <td>1</td>\n",
       "      <td>0.803731</td>\n",
       "      <td>0.447271</td>\n",
       "    </tr>\n",
       "    <tr>\n",
       "      <th>4</th>\n",
       "      <td>misc_pos</td>\n",
       "      <td>41.96</td>\n",
       "      <td>99</td>\n",
       "      <td>39</td>\n",
       "      <td>0</td>\n",
       "      <td>0</td>\n",
       "      <td>1</td>\n",
       "      <td>1</td>\n",
       "      <td>0.254299</td>\n",
       "      <td>0.830441</td>\n",
       "    </tr>\n",
       "  </tbody>\n",
       "</table>\n",
       "</div>"
      ],
      "text/plain": [
       "        category     amt  city_pop  dob  is_fraud  time  month  weekday  \\\n",
       "0       misc_net    4.97      3495   37         0     0      1        1   \n",
       "1    grocery_pos  107.23       149   47         0     0      1        1   \n",
       "2  entertainment  220.11      4154   63         0     0      1        1   \n",
       "3  gas_transport   45.00      1939   58         0     0      1        1   \n",
       "4       misc_pos   41.96        99   39         0     0      1        1   \n",
       "\n",
       "       Llat     Llong  \n",
       "0  0.067507  0.870215  \n",
       "1  0.271247  0.024038  \n",
       "2  0.969904  0.107519  \n",
       "3  0.803731  0.447271  \n",
       "4  0.254299  0.830441  "
      ]
     },
     "execution_count": 3,
     "metadata": {},
     "output_type": "execute_result"
    }
   ],
   "source": [
    "train.drop(\"Unnamed: 0\", axis=1, inplace=True)\n",
    "train = train[train['amt'] <= 2500]\n",
    "train.head()"
   ]
  },
  {
   "cell_type": "code",
   "execution_count": 4,
   "id": "82dd1119-6fbe-4c26-aa00-518b55f6e2ab",
   "metadata": {},
   "outputs": [
    {
     "data": {
      "text/html": [
       "<div>\n",
       "<style scoped>\n",
       "    .dataframe tbody tr th:only-of-type {\n",
       "        vertical-align: middle;\n",
       "    }\n",
       "\n",
       "    .dataframe tbody tr th {\n",
       "        vertical-align: top;\n",
       "    }\n",
       "\n",
       "    .dataframe thead th {\n",
       "        text-align: right;\n",
       "    }\n",
       "</style>\n",
       "<table border=\"1\" class=\"dataframe\">\n",
       "  <thead>\n",
       "    <tr style=\"text-align: right;\">\n",
       "      <th></th>\n",
       "      <th>category</th>\n",
       "      <th>amt</th>\n",
       "      <th>city_pop</th>\n",
       "      <th>dob</th>\n",
       "      <th>is_fraud</th>\n",
       "      <th>time</th>\n",
       "      <th>month</th>\n",
       "      <th>weekday</th>\n",
       "      <th>Llat</th>\n",
       "      <th>Llong</th>\n",
       "      <th>Encoding</th>\n",
       "    </tr>\n",
       "  </thead>\n",
       "  <tbody>\n",
       "    <tr>\n",
       "      <th>0</th>\n",
       "      <td>misc_net</td>\n",
       "      <td>4.97</td>\n",
       "      <td>3495</td>\n",
       "      <td>37</td>\n",
       "      <td>0</td>\n",
       "      <td>0</td>\n",
       "      <td>1</td>\n",
       "      <td>1</td>\n",
       "      <td>0.067507</td>\n",
       "      <td>0.870215</td>\n",
       "      <td>0.014459</td>\n",
       "    </tr>\n",
       "    <tr>\n",
       "      <th>1</th>\n",
       "      <td>grocery_pos</td>\n",
       "      <td>107.23</td>\n",
       "      <td>149</td>\n",
       "      <td>47</td>\n",
       "      <td>0</td>\n",
       "      <td>0</td>\n",
       "      <td>1</td>\n",
       "      <td>1</td>\n",
       "      <td>0.271247</td>\n",
       "      <td>0.024038</td>\n",
       "      <td>0.014098</td>\n",
       "    </tr>\n",
       "    <tr>\n",
       "      <th>2</th>\n",
       "      <td>entertainment</td>\n",
       "      <td>220.11</td>\n",
       "      <td>4154</td>\n",
       "      <td>63</td>\n",
       "      <td>0</td>\n",
       "      <td>0</td>\n",
       "      <td>1</td>\n",
       "      <td>1</td>\n",
       "      <td>0.969904</td>\n",
       "      <td>0.107519</td>\n",
       "      <td>0.002478</td>\n",
       "    </tr>\n",
       "    <tr>\n",
       "      <th>3</th>\n",
       "      <td>gas_transport</td>\n",
       "      <td>45.00</td>\n",
       "      <td>1939</td>\n",
       "      <td>58</td>\n",
       "      <td>0</td>\n",
       "      <td>0</td>\n",
       "      <td>1</td>\n",
       "      <td>1</td>\n",
       "      <td>0.803731</td>\n",
       "      <td>0.447271</td>\n",
       "      <td>0.004694</td>\n",
       "    </tr>\n",
       "    <tr>\n",
       "      <th>4</th>\n",
       "      <td>misc_pos</td>\n",
       "      <td>41.96</td>\n",
       "      <td>99</td>\n",
       "      <td>39</td>\n",
       "      <td>0</td>\n",
       "      <td>0</td>\n",
       "      <td>1</td>\n",
       "      <td>1</td>\n",
       "      <td>0.254299</td>\n",
       "      <td>0.830441</td>\n",
       "      <td>0.003139</td>\n",
       "    </tr>\n",
       "  </tbody>\n",
       "</table>\n",
       "</div>"
      ],
      "text/plain": [
       "        category     amt  city_pop  dob  is_fraud  time  month  weekday  \\\n",
       "0       misc_net    4.97      3495   37         0     0      1        1   \n",
       "1    grocery_pos  107.23       149   47         0     0      1        1   \n",
       "2  entertainment  220.11      4154   63         0     0      1        1   \n",
       "3  gas_transport   45.00      1939   58         0     0      1        1   \n",
       "4       misc_pos   41.96        99   39         0     0      1        1   \n",
       "\n",
       "       Llat     Llong  Encoding  \n",
       "0  0.067507  0.870215  0.014459  \n",
       "1  0.271247  0.024038  0.014098  \n",
       "2  0.969904  0.107519  0.002478  \n",
       "3  0.803731  0.447271  0.004694  \n",
       "4  0.254299  0.830441  0.003139  "
      ]
     },
     "execution_count": 4,
     "metadata": {},
     "output_type": "execute_result"
    }
   ],
   "source": [
    "from joblib import dump\n",
    "# 计算每个类别的目标均值\n",
    "target_encoding = train.groupby('category')['is_fraud'].mean()\n",
    "\n",
    "# 保存 target_encoding\n",
    "dump(target_encoding, '../finance-server/uploads/target_encoding.joblib')\n",
    "\n",
    "# 将目标均值映射到原始数据\n",
    "train['Encoding'] = train['category'].map(target_encoding)\n",
    "train.head()"
   ]
  },
  {
   "cell_type": "code",
   "execution_count": 5,
   "id": "eba02198-d1cd-4e2e-9822-7a3f886857a0",
   "metadata": {},
   "outputs": [
    {
     "data": {
      "image/png": "[encoded data removed]",
      "text/plain": [
       "<Figure size 1000x600 with 1 Axes>"
      ]
     },
     "metadata": {},
     "output_type": "display_data"
    }
   ],
   "source": [
    "import matplotlib.pyplot as plt\n",
    "import seaborn as sns\n",
    "# 提取 'amt' 列\n",
    "amt_column = train['amt']\n",
    "amt_filtered = amt_column[(amt_column >= 0) & (amt_column <= 2000)]\n",
    "# 绘制直方图\n",
    "\n",
    "plt.figure(figsize=(10, 6))  # 设置图形大小\n",
    "sns.histplot(amt_filtered , bins=10, kde=False, color='blue', stat='probability')  # 使用 seaborn 绘制直方图\n",
    "plt.title('Amount Distribution')  # 设置标题\n",
    "plt.xlabel('Amount Range')  # 设置 x 轴标签\n",
    "plt.ylabel('Probability')  # 设置 y 轴标签\n",
    "plt.xlim(0, 2000)  # 将 x 轴范围设置为 0 到 10000\n",
    "plt.grid(True)  # 添加网格\n",
    "plt.show()  # 显示图形"
   ]
  },
  {
   "cell_type": "code",
   "execution_count": 6,
   "id": "9eaa6bf8-50d9-4c4b-92b8-4a6378f07e3a",
   "metadata": {},
   "outputs": [
    {
     "data": {
      "text/plain": [
       "count    1.296188e+06\n",
       "mean     6.853519e+01\n",
       "std      1.110408e+02\n",
       "min      1.000000e+00\n",
       "25%      9.650000e+00\n",
       "50%      4.749000e+01\n",
       "75%      8.308000e+01\n",
       "max      2.498050e+03\n",
       "Name: amt, dtype: float64"
      ]
     },
     "execution_count": 6,
     "metadata": {},
     "output_type": "execute_result"
    }
   ],
   "source": [
    "train['amt'].describe()\n"
   ]
  },
  {
   "cell_type": "code",
   "execution_count": 7,
   "id": "e34ad1a6-a00d-4efc-9cf4-b9a599e0662e",
   "metadata": {},
   "outputs": [
    {
     "data": {
      "text/plain": [
       "<Axes: xlabel='Llat'>"
      ]
     },
     "execution_count": 7,
     "metadata": {},
     "output_type": "execute_result"
    },
    {
     "data": {
      "image/png": "[encoded data removed]",
      "text/plain": [
       "<Figure size 640x480 with 1 Axes>"
      ]
     },
     "metadata": {},
     "output_type": "display_data"
    }
   ],
   "source": [
    "sns.boxplot(x=train['Llat'])\n"
   ]
  },
  {
   "cell_type": "code",
   "execution_count": 8,
   "id": "20bd881c-9d5d-4545-8a0f-15c082f69e75",
   "metadata": {},
   "outputs": [
    {
     "data": {
      "text/plain": [
       "<Axes: xlabel='Llong'>"
      ]
     },
     "execution_count": 8,
     "metadata": {},
     "output_type": "execute_result"
    },
    {
     "data": {
      "image/png": "[encoded data removed]",
      "text/plain": [
       "<Figure size 640x480 with 1 Axes>"
      ]
     },
     "metadata": {},
     "output_type": "display_data"
    }
   ],
   "source": [
    "sns.boxplot(x=train['Llong'])\n"
   ]
  },
  {
   "cell_type": "code",
   "execution_count": 9,
   "id": "0d25f0e2-bdaa-4f88-b8ac-b175cb8bed6e",
   "metadata": {},
   "outputs": [
    {
     "data": {
      "text/plain": [
       "<Axes: xlabel='city_pop'>"
      ]
     },
     "execution_count": 9,
     "metadata": {},
     "output_type": "execute_result"
    },
    {
     "data": {
      "image/png": "[encoded data removed]",
      "text/plain": [
       "<Figure size 640x480 with 1 Axes>"
      ]
     },
     "metadata": {},
     "output_type": "display_data"
    }
   ],
   "source": [
    "sns.boxplot(x=train['city_pop'])"
   ]
  },
  {
   "cell_type": "code",
   "execution_count": 10,
   "id": "01a900d7-f643-4585-86c0-1d1c4367f18f",
   "metadata": {},
   "outputs": [],
   "source": [
    "selected_features = ['amt','city_pop','dob','time','weekday','Llat','Encoding']\n",
    "X = train[selected_features]  # 选择特定特征\n",
    "y = train['is_fraud']  # 目标变量"
   ]
  },
  {
   "cell_type": "code",
   "execution_count": 11,
   "id": "fba18224-bc44-4549-9bd8-0b6ac56d779c",
   "metadata": {},
   "outputs": [],
   "source": [
    "from sklearn.model_selection import train_test_split\n",
    "\n",
    "X_train, X_test, y_train, y_test = train_test_split(X, y, test_size=0.2, random_state=42)"
   ]
  },
  {
   "cell_type": "code",
   "execution_count": 12,
   "id": "f9d28fa0-19e9-455e-87e8-e9cb8a44f0b1",
   "metadata": {},
   "outputs": [
    {
     "name": "stderr",
     "output_type": "stream",
     "text": [
      "d:\\python\\lib\\site-packages\\sklearn\\base.py:474: FutureWarning: `BaseEstimator._validate_data` is deprecated in 1.6 and will be removed in 1.7. Use `sklearn.utils.validation.validate_data` instead. This function becomes public and is part of the scikit-learn developer API.\n",
      "  warnings.warn(\n"
     ]
    }
   ],
   "source": [
    "from imblearn.over_sampling import SMOTE\n",
    "\n",
    "smote = SMOTE(random_state=42)\n",
    "x_train_resampled, y_train_resampled = smote.fit_resample(X_train, y_train)\n",
    "\n",
    "# from imblearn.combine import SMOTETomek\n",
    "\n",
    "# smote_tomek = SMOTETomek(random_state=42)\n",
    "# x_train_resampled,y_train_resampled = smote_tomek.fit_resample(X_train, y_train)"
   ]
  },
  {
   "cell_type": "code",
   "execution_count": 13,
   "id": "2ff4a2d2-1f3a-4662-9982-2fb31adee255",
   "metadata": {},
   "outputs": [
    {
     "name": "stderr",
     "output_type": "stream",
     "text": [
      "[Parallel(n_jobs=1)]: Done  49 tasks      | elapsed:  2.0min\n",
      "[Parallel(n_jobs=1)]: Done 199 tasks      | elapsed:  8.1min\n",
      "\n",
      "KeyboardInterrupt\n",
      "\n"
     ]
    }
   ],
   "source": [
    "from sklearn.ensemble import RandomForestClassifier\n",
    "from sklearn.metrics import roc_auc_score\n",
    "\n",
    "# 初始化随机森林模型\n",
    "model = RandomForestClassifier(\n",
    "    n_estimators=1000,  # 树的数量\n",
    "    criterion='gini',  # 分裂标准（基尼系数）\n",
    "    max_depth=6,  # 树的最大深度\n",
    "    class_weight='balanced',  # 自动调整类别权重\n",
    "    random_state=42,\n",
    "    verbose=1,  # 显示训练过程\n",
    "    n_jobs = 3\n",
    ")\n",
    "\n",
    "# 训练模型\n",
    "model.fit(x_train_resampled, y_train_resampled)\n",
    "\n",
    "# 预测\n",
    "y_pred = model.predict(X_test)\n",
    "y_prob = model.predict_proba(X_test)[:, 1]\n",
    "\n",
    "# 计算 AUC\n",
    "auc = roc_auc_score(y_test, y_prob)\n",
    "print(\"AUC:\", auc)"
   ]
  },
  {
   "cell_type": "code",
   "execution_count": null,
   "id": "c21f833d-4216-4126-bff6-eeb5db33bad0",
   "metadata": {},
   "outputs": [],
   "source": [
    "import numpy as np\n",
    "import matplotlib.pyplot as plt\n",
    "import seaborn as sns\n",
    "from sklearn.metrics import classification_report, confusion_matrix, roc_auc_score, roc_curve\n"
   ]
  },
  {
   "cell_type": "code",
   "execution_count": null,
   "id": "ec4749ef-f85e-4df6-bc80-c6918a558d20",
   "metadata": {},
   "outputs": [],
   "source": [
    "# 计算混淆矩阵\n",
    "cm = confusion_matrix(y_test, y_pred)\n",
    "\n",
    "# 可视化混淆矩阵\n",
    "plt.figure(figsize=(6, 6))\n",
    "sns.heatmap(cm, annot=True, fmt='d', cmap='Blues', xticklabels=['Non-Fraud', 'Fraud'], yticklabels=['Non-Fraud', 'Fraud'])\n",
    "plt.title('Confusion Matrix')\n",
    "plt.xlabel('Predicted Label')\n",
    "plt.ylabel('True Label')\n",
    "plt.show()\n"
   ]
  },
  {
   "cell_type": "code",
   "execution_count": null,
   "id": "998b428f-c938-4a25-a64b-57d15f7349b9",
   "metadata": {},
   "outputs": [],
   "source": [
    "# 计算 AUC\n",
    "auc_score = roc_auc_score(y_test, y_prob)\n",
    "print(f\"AUC Score: {auc_score:.4f}\")\n",
    "\n",
    "# 计算 ROC 曲线的 FPR 和 TPR\n",
    "fpr, tpr, thresholds = roc_curve(y_test, y_prob)\n",
    "\n",
    "# 绘制 ROC 曲线\n",
    "plt.figure(figsize=(8, 6))\n",
    "plt.plot(fpr, tpr, color='blue', label=f'ROC curve (AUC = {auc_score:.4f})')\n",
    "plt.plot([0, 1], [0, 1], color='gray', linestyle='--')\n",
    "plt.title('Receiver Operating Characteristic (ROC) Curve')\n",
    "plt.xlabel('False Positive Rate')\n",
    "plt.ylabel('True Positive Rate')\n",
    "plt.legend(loc='lower right')\n",
    "plt.savefig(\"../finance-web/public/XGBoostROC.png\")  # 保存为文件\n",
    "plt.show()\n"
   ]
  },
  {
   "cell_type": "code",
   "execution_count": null,
   "id": "ef1d0fe7-c01c-457a-9f51-feec7ec90ca1",
   "metadata": {},
   "outputs": [],
   "source": [
    "from sklearn.metrics import precision_score, recall_score, f1_score\n",
    "\n",
    "precision = precision_score(y_test, y_pred)\n",
    "recall = recall_score(y_test, y_pred)\n",
    "f1 = f1_score(y_test, y_pred)\n",
    "\n",
    "print(f\"Precision: {precision:.4f}\")\n",
    "print(f\"Recall: {recall:.4f}\")\n",
    "print(f\"F1-Score: {f1:.4f}\")\n"
   ]
  },
  {
   "cell_type": "code",
   "execution_count": null,
   "id": "e692af3f-e6f2-461c-94a3-fe9a05cf85eb",
   "metadata": {},
   "outputs": [],
   "source": [
    "from sklearn.metrics import accuracy_score\n",
    "\n",
    "accuracy = accuracy_score(y_test, y_pred)\n",
    "print(f\"Accuracy: {accuracy:.4f}\")\n"
   ]
  },
  {
   "cell_type": "code",
   "execution_count": null,
   "id": "79014238-a33b-4917-9aac-57f2d8282b09",
   "metadata": {},
   "outputs": [],
   "source": [
    "\n",
    "    # 计算评估指标\n",
    "    print(classification_report(y_test, y_pred, target_names=['Non-Fraud', 'Fraud']))\n",
    "    print(f\"AUC Score: {roc_auc_score(y_test, y_prob):.4f}\")\n",
    "    print(f\"Precision: {precision_score(y_test, y_pred):.4f}\")\n",
    "    print(f\"Recall: {recall_score(y_test, y_pred):.4f}\")\n",
    "    print(f\"F1-Score: {f1_score(y_test, y_pred):.4f}\")\n",
    "\n",
    "# 假设 y_test 是真实标签，y_pred 是预测标签，y_prob 是预测概率\n",
    "auc = roc_auc_score(y_test, y_prob)\n",
    "precision = precision_score(y_test, y_pred)\n",
    "recall = recall_score(y_test, y_pred)\n",
    "f1 = f1_score(y_test, y_pred)\n",
    "\n",
    "# 创建 DataFrame\n",
    "results = pd.DataFrame({\n",
    "    'AUC': [f\"{auc:.4f}\"],  # 格式化 AUC\n",
    "    'Precision': [f\"{precision:.4f}\"],  # 格式化 Precision\n",
    "    'Recall': [f\"{recall:.4f}\"],  # 格式化 Recall\n",
    "    'F1Score': [f\"{f1:.4f}\"]  # 格式化 F1Score\n",
    "})\n",
    "    results.to_csv(\"../finance-server/uploads/XGBoost.csv\", index=False)  # 保存为 CSV 文件"
   ]
  },
  {
   "cell_type": "code",
   "execution_count": null,
   "id": "06acc68d-b715-4c4b-a9bc-6b239311dbb8",
   "metadata": {},
   "outputs": [],
   "source": [
    "from sklearn.metrics import precision_recall_curve, auc\n",
    "import matplotlib.pyplot as plt\n",
    "\n",
    "precision, recall, _ = precision_recall_curve(y_test, y_prob)\n",
    "pr_auc = auc(recall, precision)\n",
    "\n",
    "plt.figure(figsize=(8, 6))\n",
    "plt.plot(recall, precision, color='blue', label=f'PR curve (AUC = {pr_auc:.4f})')\n",
    "plt.title('Precision-Recall Curve')\n",
    "plt.xlabel('Recall')\n",
    "plt.ylabel('Precision')\n",
    "plt.legend(loc='lower left')\n",
    "plt.show()"
   ]
  },
  {
   "cell_type": "code",
   "execution_count": null,
   "id": "c466e4cd-437c-4438-9ea7-a642dccbf80e",
   "metadata": {},
   "outputs": [],
   "source": [
    "xgb.plot_importance(model)"
   ]
  },
  {
   "cell_type": "code",
   "execution_count": null,
   "id": "e61e19ca-ea24-43c6-9eb4-3709df49beea",
   "metadata": {},
   "outputs": [],
   "source": [
    "random_sample = train.sample(n=5, random_state=42)  # random_state 确保结果可复现\n",
    "random_features = ['amt','city_pop','dob','time','weekday','Llat','Encoding']\n",
    "X1 = random_sample[random_features]  # 选择特定特征\n",
    "predictions =model.predict(X1)\n",
    "predictions2 = model.predict_proba(X1)[:, 1]\n",
    "# 输出预测结果\n",
    "print(\"Predictions:\", predictions)\n",
    "print(\"predictions2:\", predictions2)\n",
    "print(\"is_fraud:\", random_sample['is_fraud'])"
   ]
  },
  {
   "cell_type": "code",
   "execution_count": null,
   "id": "fbe3c1a5-129f-4307-a77e-0e39bac06456",
   "metadata": {},
   "outputs": [],
   "source": [
    "newTest = pd.read_csv(\"Newtest.csv\")\n",
    "newX = newTest[random_features]\n",
    "newY = newTest['is_fraud']\n",
    "new_pred = model.predict(newX)\n",
    "new_prob = model.predict_proba(newX)[:, 1]  # 预测概率（用于 AUC 和 ROC）\n",
    "\n",
    "# 假设 y_test 是真实标签，y_pred 是预测标签，y_prob 是预测概率\n",
    "print(f\"AUC Score: {roc_auc_score(newY, new_prob):.4f}\")\n",
    "print(f\"Precision: {precision_score(newY, new_pred):.4f}\")\n",
    "print(f\"Recall: {recall_score(newY, new_pred):.4f}\")\n",
    "print(f\"F1-Score: {f1_score(newY, new_pred):.4f}\")"
   ]
  },
  {
   "cell_type": "code",
   "execution_count": null,
   "id": "1b66ee8c-ebae-4e9e-bbb7-8ba6f97366d8",
   "metadata": {},
   "outputs": [],
   "source": [
    "from joblib import dump\n",
    "\n",
    "# 假设 best_model 是训练好的模型\n",
    "# dump(model, '../finance-server/uploads/XGBoostModel.joblib')"
   ]
  }
 ],
 "metadata": {
  "kernelspec": {
   "display_name": "Python 3 (ipykernel)",
   "language": "python",
   "name": "python3"
  },
  "language_info": {
   "codemirror_mode": {
    "name": "ipython",
    "version": 3
   },
   "file_extension": ".py",
   "mimetype": "text/x-python",
   "name": "python",
   "nbconvert_exporter": "python",
   "pygments_lexer": "ipython3",
   "version": "3.9.6"
  }
 },
 "nbformat": 4,
 "nbformat_minor": 5
}
